{
 "cells": [
  {
   "cell_type": "code",
   "execution_count": 5,
   "id": "dcb531e6-659a-4b00-9aec-6b5892930541",
   "metadata": {},
   "outputs": [],
   "source": [
    "import numpy as np\n",
    "import pandas as pd\n",
    "import sqlite3"
   ]
  },
  {
   "cell_type": "code",
   "execution_count": 36,
   "id": "4798123e-bd66-4f21-9c5f-178e93d6d71b",
   "metadata": {},
   "outputs": [],
   "source": [
    "con=None\n",
    "\n",
    "def getConnection():\n",
    "    databaseFile=\"./test.db\"\n",
    "    global con\n",
    "    if con == None:\n",
    "        con=sqlite3.connect(databaseFile)\n",
    "    return con\n",
    "\n",
    "def createTable(con):\n",
    "    try:\n",
    "        c = con.cursor()\n",
    "        c.execute(\"\"\"CREATE TABLE IF NOT EXISTS Movie\n",
    "                 (start, end, score)\"\"\")\n",
    "    except Exception as e:\n",
    "        pass\n",
    "\n",
    "def insert(con):\n",
    "    c = con.cursor()\n",
    "    c.execute(\"\"\"INSERT INTO Movie (start, end, score)\n",
    "          values(1, 99, 123)\"\"\")\n",
    "\n",
    "def queryExec():\n",
    "    con=getConnection()\n",
    "    createTable(con)\n",
    "    insert(con)\n",
    "    # r = con.execute(\"\"\"SELECT * FROM Movie\"\"\")\n",
    "    result=pd.read_sql_query(\"select * from Movie;\",con)\n",
    "    return result"
   ]
  },
  {
   "cell_type": "code",
   "execution_count": null,
   "id": "57821386-93b4-4f5a-a334-711097c116a6",
   "metadata": {},
   "outputs": [],
   "source": []
  }
 ],
 "metadata": {
  "kernelspec": {
   "display_name": "Python 3 (ipykernel)",
   "language": "python",
   "name": "python3"
  },
  "language_info": {
   "codemirror_mode": {
    "name": "ipython",
    "version": 3
   },
   "file_extension": ".py",
   "mimetype": "text/x-python",
   "name": "python",
   "nbconvert_exporter": "python",
   "pygments_lexer": "ipython3",
   "version": "3.9.7"
  }
 },
 "nbformat": 4,
 "nbformat_minor": 5
}
